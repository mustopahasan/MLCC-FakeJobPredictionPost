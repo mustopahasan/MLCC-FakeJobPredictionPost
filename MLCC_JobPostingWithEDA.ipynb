{
  "nbformat": 4,
  "nbformat_minor": 0,
  "metadata": {
    "colab": {
      "name": "MLCC_JobPostingWithEDA.ipynb",
      "provenance": []
    },
    "kernelspec": {
      "name": "python3",
      "display_name": "Python 3"
    }
  },
  "cells": [
    {
      "cell_type": "code",
      "metadata": {
        "id": "hYFkorIAWOAW",
        "colab_type": "code",
        "colab": {}
      },
      "source": [
        "#select the tensor flow version 2\n",
        "%tensorflow_version 2.x "
      ],
      "execution_count": 0,
      "outputs": []
    },
    {
      "cell_type": "code",
      "metadata": {
        "id": "2trgOBWOWEPK",
        "colab_type": "code",
        "colab": {}
      },
      "source": [
        "#import the required moduls\n",
        "import pandas as pd\n",
        "import matplotlib.pyplot as plt\n",
        "import numpy as np\n",
        "import tensorflow as tf\n",
        "from tensorflow import feature_column\n",
        "from tensorflow.keras import layers\n",
        "from sklearn.model_selection import train_test_split"
      ],
      "execution_count": 0,
      "outputs": []
    },
    {
      "cell_type": "code",
      "metadata": {
        "id": "IkNPP3-7WTgL",
        "colab_type": "code",
        "colab": {
          "base_uri": "https://localhost:8080/",
          "height": 366
        },
        "outputId": "fe724c24-f10e-4868-be3a-20b5acdef667"
      },
      "source": [
        "#import the dataset\n",
        "data = pd.read_csv('/content/drive/My Drive/Bangkit Project/MLCC/fake_job_postings.csv')\n",
        "data.head(3)"
      ],
      "execution_count": 4,
      "outputs": [
        {
          "output_type": "execute_result",
          "data": {
            "text/html": [
              "<div>\n",
              "<style scoped>\n",
              "    .dataframe tbody tr th:only-of-type {\n",
              "        vertical-align: middle;\n",
              "    }\n",
              "\n",
              "    .dataframe tbody tr th {\n",
              "        vertical-align: top;\n",
              "    }\n",
              "\n",
              "    .dataframe thead th {\n",
              "        text-align: right;\n",
              "    }\n",
              "</style>\n",
              "<table border=\"1\" class=\"dataframe\">\n",
              "  <thead>\n",
              "    <tr style=\"text-align: right;\">\n",
              "      <th></th>\n",
              "      <th>job_id</th>\n",
              "      <th>title</th>\n",
              "      <th>location</th>\n",
              "      <th>department</th>\n",
              "      <th>salary_range</th>\n",
              "      <th>company_profile</th>\n",
              "      <th>description</th>\n",
              "      <th>requirements</th>\n",
              "      <th>benefits</th>\n",
              "      <th>telecommuting</th>\n",
              "      <th>has_company_logo</th>\n",
              "      <th>has_questions</th>\n",
              "      <th>employment_type</th>\n",
              "      <th>required_experience</th>\n",
              "      <th>required_education</th>\n",
              "      <th>industry</th>\n",
              "      <th>function</th>\n",
              "      <th>fraudulent</th>\n",
              "    </tr>\n",
              "  </thead>\n",
              "  <tbody>\n",
              "    <tr>\n",
              "      <th>0</th>\n",
              "      <td>1</td>\n",
              "      <td>Marketing Intern</td>\n",
              "      <td>US, NY, New York</td>\n",
              "      <td>Marketing</td>\n",
              "      <td>NaN</td>\n",
              "      <td>We're Food52, and we've created a groundbreaki...</td>\n",
              "      <td>Food52, a fast-growing, James Beard Award-winn...</td>\n",
              "      <td>Experience with content management systems a m...</td>\n",
              "      <td>NaN</td>\n",
              "      <td>0</td>\n",
              "      <td>1</td>\n",
              "      <td>0</td>\n",
              "      <td>Other</td>\n",
              "      <td>Internship</td>\n",
              "      <td>NaN</td>\n",
              "      <td>NaN</td>\n",
              "      <td>Marketing</td>\n",
              "      <td>0</td>\n",
              "    </tr>\n",
              "    <tr>\n",
              "      <th>1</th>\n",
              "      <td>2</td>\n",
              "      <td>Customer Service - Cloud Video Production</td>\n",
              "      <td>NZ, , Auckland</td>\n",
              "      <td>Success</td>\n",
              "      <td>NaN</td>\n",
              "      <td>90 Seconds, the worlds Cloud Video Production ...</td>\n",
              "      <td>Organised - Focused - Vibrant - Awesome!Do you...</td>\n",
              "      <td>What we expect from you:Your key responsibilit...</td>\n",
              "      <td>What you will get from usThrough being part of...</td>\n",
              "      <td>0</td>\n",
              "      <td>1</td>\n",
              "      <td>0</td>\n",
              "      <td>Full-time</td>\n",
              "      <td>Not Applicable</td>\n",
              "      <td>NaN</td>\n",
              "      <td>Marketing and Advertising</td>\n",
              "      <td>Customer Service</td>\n",
              "      <td>0</td>\n",
              "    </tr>\n",
              "    <tr>\n",
              "      <th>2</th>\n",
              "      <td>3</td>\n",
              "      <td>Commissioning Machinery Assistant (CMA)</td>\n",
              "      <td>US, IA, Wever</td>\n",
              "      <td>NaN</td>\n",
              "      <td>NaN</td>\n",
              "      <td>Valor Services provides Workforce Solutions th...</td>\n",
              "      <td>Our client, located in Houston, is actively se...</td>\n",
              "      <td>Implement pre-commissioning and commissioning ...</td>\n",
              "      <td>NaN</td>\n",
              "      <td>0</td>\n",
              "      <td>1</td>\n",
              "      <td>0</td>\n",
              "      <td>NaN</td>\n",
              "      <td>NaN</td>\n",
              "      <td>NaN</td>\n",
              "      <td>NaN</td>\n",
              "      <td>NaN</td>\n",
              "      <td>0</td>\n",
              "    </tr>\n",
              "  </tbody>\n",
              "</table>\n",
              "</div>"
            ],
            "text/plain": [
              "   job_id  ... fraudulent\n",
              "0       1  ...          0\n",
              "1       2  ...          0\n",
              "2       3  ...          0\n",
              "\n",
              "[3 rows x 18 columns]"
            ]
          },
          "metadata": {
            "tags": []
          },
          "execution_count": 4
        }
      ]
    },
    {
      "cell_type": "markdown",
      "metadata": {
        "id": "Z6ER8bT-XRZK",
        "colab_type": "text"
      },
      "source": [
        "#Data Analysis and Data Cleaning"
      ]
    },
    {
      "cell_type": "code",
      "metadata": {
        "id": "Wq2PPzMlWd03",
        "colab_type": "code",
        "colab": {
          "base_uri": "https://localhost:8080/",
          "height": 378
        },
        "outputId": "b0aa73b5-88d5-4505-ab01-10d65f919854"
      },
      "source": [
        "#cheking for the null or Nan Values\n",
        "data.isnull().sum()/data.shape[0]*100"
      ],
      "execution_count": 5,
      "outputs": [
        {
          "output_type": "execute_result",
          "data": {
            "text/plain": [
              "job_id                  0.000000\n",
              "title                   0.000000\n",
              "location                1.935123\n",
              "department             64.580537\n",
              "salary_range           83.959732\n",
              "company_profile        18.501119\n",
              "description             0.005593\n",
              "requirements           15.072707\n",
              "benefits               40.324385\n",
              "telecommuting           0.000000\n",
              "has_company_logo        0.000000\n",
              "has_questions           0.000000\n",
              "employment_type        19.412752\n",
              "required_experience    39.429530\n",
              "required_education     45.329978\n",
              "industry               27.421700\n",
              "function               36.101790\n",
              "fraudulent              0.000000\n",
              "dtype: float64"
            ]
          },
          "metadata": {
            "tags": []
          },
          "execution_count": 5
        }
      ]
    },
    {
      "cell_type": "markdown",
      "metadata": {
        "id": "X0cf2sxWaEmz",
        "colab_type": "text"
      },
      "source": [
        "job_id didnt give us any informations, and salary_range has too many null or Nan value (84%). so drop these columns"
      ]
    },
    {
      "cell_type": "code",
      "metadata": {
        "id": "DZxV0UKpZLe2",
        "colab_type": "code",
        "colab": {}
      },
      "source": [
        "#drop unused columns\n",
        "data = data.drop(['job_id','salary_range'],axis=1)"
      ],
      "execution_count": 0,
      "outputs": []
    },
    {
      "cell_type": "code",
      "metadata": {
        "id": "Z3x8PYWLb7Ot",
        "colab_type": "code",
        "colab": {
          "base_uri": "https://localhost:8080/",
          "height": 36
        },
        "outputId": "e62d65d5-56f1-4f5f-bb08-4a8068c4c189"
      },
      "source": [
        "#cheking department column\n",
        "data.department.isnull().sum()"
      ],
      "execution_count": 7,
      "outputs": [
        {
          "output_type": "execute_result",
          "data": {
            "text/plain": [
              "11547"
            ]
          },
          "metadata": {
            "tags": []
          },
          "execution_count": 7
        }
      ]
    },
    {
      "cell_type": "markdown",
      "metadata": {
        "id": "yGAsVBccebym",
        "colab_type": "text"
      },
      "source": [
        "there is 11.547 null or Nan value in department column, fill this value with \"other\" category (unspecified department)"
      ]
    },
    {
      "cell_type": "code",
      "metadata": {
        "id": "OUFG_0UJb8xD",
        "colab_type": "code",
        "colab": {}
      },
      "source": [
        "#fill \"other\" category to department column\n",
        "data.department = data.department.fillna(value='other')"
      ],
      "execution_count": 0,
      "outputs": []
    },
    {
      "cell_type": "code",
      "metadata": {
        "id": "dBtI3GezfGgJ",
        "colab_type": "code",
        "colab": {
          "base_uri": "https://localhost:8080/",
          "height": 36
        },
        "outputId": "217e68ed-a1e5-4690-c606-8f4bdadfa4e2"
      },
      "source": [
        "#chek the required_education \n",
        "data.required_education.isnull().sum()/data.shape[0]"
      ],
      "execution_count": 9,
      "outputs": [
        {
          "output_type": "execute_result",
          "data": {
            "text/plain": [
              "0.4532997762863535"
            ]
          },
          "metadata": {
            "tags": []
          },
          "execution_count": 9
        }
      ]
    },
    {
      "cell_type": "markdown",
      "metadata": {
        "id": "ofqBDo6sgbHY",
        "colab_type": "text"
      },
      "source": [
        "45.3% of required_education value is null or Nan value, fill this value with \"other\" category (no need specific education background)"
      ]
    },
    {
      "cell_type": "code",
      "metadata": {
        "id": "-8gX5XiAf0PG",
        "colab_type": "code",
        "colab": {}
      },
      "source": [
        "#fill \"other\" category to required_education column\n",
        "data.required_education = data.required_education.fillna(value='other')"
      ],
      "execution_count": 0,
      "outputs": []
    },
    {
      "cell_type": "code",
      "metadata": {
        "id": "m65jyoTSgW_m",
        "colab_type": "code",
        "colab": {
          "base_uri": "https://localhost:8080/",
          "height": 36
        },
        "outputId": "f7dcb373-ea41-441a-819b-ccb32ab34ea5"
      },
      "source": [
        "data.required_experience.isnull().sum()/data.shape[0]*100"
      ],
      "execution_count": 11,
      "outputs": [
        {
          "output_type": "execute_result",
          "data": {
            "text/plain": [
              "39.42953020134228"
            ]
          },
          "metadata": {
            "tags": []
          },
          "execution_count": 11
        }
      ]
    },
    {
      "cell_type": "code",
      "metadata": {
        "id": "jv8Pk1nAjh5G",
        "colab_type": "code",
        "colab": {
          "base_uri": "https://localhost:8080/",
          "height": 169
        },
        "outputId": "70016797-7a4b-4944-f119-ee2407f32fd4"
      },
      "source": [
        "data.required_experience.value_counts()"
      ],
      "execution_count": 12,
      "outputs": [
        {
          "output_type": "execute_result",
          "data": {
            "text/plain": [
              "Mid-Senior level    3809\n",
              "Entry level         2697\n",
              "Associate           2297\n",
              "Not Applicable      1116\n",
              "Director             389\n",
              "Internship           381\n",
              "Executive            141\n",
              "Name: required_experience, dtype: int64"
            ]
          },
          "metadata": {
            "tags": []
          },
          "execution_count": 12
        }
      ]
    },
    {
      "cell_type": "markdown",
      "metadata": {
        "id": "x8xmYfFyi-86",
        "colab_type": "text"
      },
      "source": [
        "39% of required_experience is null or Nan value, but there is no \"other\" category for required experience. All possible category are already exist. so I will drop the null or Nan value."
      ]
    },
    {
      "cell_type": "code",
      "metadata": {
        "id": "hvwdruxJi18L",
        "colab_type": "code",
        "colab": {
          "base_uri": "https://localhost:8080/",
          "height": 366
        },
        "outputId": "ba7413ae-9fda-43a1-e397-440076c3322f"
      },
      "source": [
        "data.head(3)"
      ],
      "execution_count": 13,
      "outputs": [
        {
          "output_type": "execute_result",
          "data": {
            "text/html": [
              "<div>\n",
              "<style scoped>\n",
              "    .dataframe tbody tr th:only-of-type {\n",
              "        vertical-align: middle;\n",
              "    }\n",
              "\n",
              "    .dataframe tbody tr th {\n",
              "        vertical-align: top;\n",
              "    }\n",
              "\n",
              "    .dataframe thead th {\n",
              "        text-align: right;\n",
              "    }\n",
              "</style>\n",
              "<table border=\"1\" class=\"dataframe\">\n",
              "  <thead>\n",
              "    <tr style=\"text-align: right;\">\n",
              "      <th></th>\n",
              "      <th>title</th>\n",
              "      <th>location</th>\n",
              "      <th>department</th>\n",
              "      <th>company_profile</th>\n",
              "      <th>description</th>\n",
              "      <th>requirements</th>\n",
              "      <th>benefits</th>\n",
              "      <th>telecommuting</th>\n",
              "      <th>has_company_logo</th>\n",
              "      <th>has_questions</th>\n",
              "      <th>employment_type</th>\n",
              "      <th>required_experience</th>\n",
              "      <th>required_education</th>\n",
              "      <th>industry</th>\n",
              "      <th>function</th>\n",
              "      <th>fraudulent</th>\n",
              "    </tr>\n",
              "  </thead>\n",
              "  <tbody>\n",
              "    <tr>\n",
              "      <th>0</th>\n",
              "      <td>Marketing Intern</td>\n",
              "      <td>US, NY, New York</td>\n",
              "      <td>Marketing</td>\n",
              "      <td>We're Food52, and we've created a groundbreaki...</td>\n",
              "      <td>Food52, a fast-growing, James Beard Award-winn...</td>\n",
              "      <td>Experience with content management systems a m...</td>\n",
              "      <td>NaN</td>\n",
              "      <td>0</td>\n",
              "      <td>1</td>\n",
              "      <td>0</td>\n",
              "      <td>Other</td>\n",
              "      <td>Internship</td>\n",
              "      <td>other</td>\n",
              "      <td>NaN</td>\n",
              "      <td>Marketing</td>\n",
              "      <td>0</td>\n",
              "    </tr>\n",
              "    <tr>\n",
              "      <th>1</th>\n",
              "      <td>Customer Service - Cloud Video Production</td>\n",
              "      <td>NZ, , Auckland</td>\n",
              "      <td>Success</td>\n",
              "      <td>90 Seconds, the worlds Cloud Video Production ...</td>\n",
              "      <td>Organised - Focused - Vibrant - Awesome!Do you...</td>\n",
              "      <td>What we expect from you:Your key responsibilit...</td>\n",
              "      <td>What you will get from usThrough being part of...</td>\n",
              "      <td>0</td>\n",
              "      <td>1</td>\n",
              "      <td>0</td>\n",
              "      <td>Full-time</td>\n",
              "      <td>Not Applicable</td>\n",
              "      <td>other</td>\n",
              "      <td>Marketing and Advertising</td>\n",
              "      <td>Customer Service</td>\n",
              "      <td>0</td>\n",
              "    </tr>\n",
              "    <tr>\n",
              "      <th>2</th>\n",
              "      <td>Commissioning Machinery Assistant (CMA)</td>\n",
              "      <td>US, IA, Wever</td>\n",
              "      <td>other</td>\n",
              "      <td>Valor Services provides Workforce Solutions th...</td>\n",
              "      <td>Our client, located in Houston, is actively se...</td>\n",
              "      <td>Implement pre-commissioning and commissioning ...</td>\n",
              "      <td>NaN</td>\n",
              "      <td>0</td>\n",
              "      <td>1</td>\n",
              "      <td>0</td>\n",
              "      <td>NaN</td>\n",
              "      <td>NaN</td>\n",
              "      <td>other</td>\n",
              "      <td>NaN</td>\n",
              "      <td>NaN</td>\n",
              "      <td>0</td>\n",
              "    </tr>\n",
              "  </tbody>\n",
              "</table>\n",
              "</div>"
            ],
            "text/plain": [
              "                                       title  ... fraudulent\n",
              "0                           Marketing Intern  ...          0\n",
              "1  Customer Service - Cloud Video Production  ...          0\n",
              "2    Commissioning Machinery Assistant (CMA)  ...          0\n",
              "\n",
              "[3 rows x 16 columns]"
            ]
          },
          "metadata": {
            "tags": []
          },
          "execution_count": 13
        }
      ]
    },
    {
      "cell_type": "markdown",
      "metadata": {
        "id": "Lt2uGqIwLXOS",
        "colab_type": "text"
      },
      "source": [
        "company_profile,description, requirements, benefits columns are note categorical or numerical, so drop these columns"
      ]
    },
    {
      "cell_type": "code",
      "metadata": {
        "id": "-LuArz77owK2",
        "colab_type": "code",
        "colab": {}
      },
      "source": [
        "data = data.drop(['company_profile','description','benefits','requirements'],axis=1)"
      ],
      "execution_count": 0,
      "outputs": []
    },
    {
      "cell_type": "code",
      "metadata": {
        "id": "BAVo7XeXNBC9",
        "colab_type": "code",
        "colab": {}
      },
      "source": [
        "#drop all Nan or null value\n",
        "data = data.dropna()"
      ],
      "execution_count": 0,
      "outputs": []
    },
    {
      "cell_type": "code",
      "metadata": {
        "id": "Y6aezUGSOKlu",
        "colab_type": "code",
        "colab": {
          "base_uri": "https://localhost:8080/",
          "height": 378
        },
        "outputId": "391571c9-8e4f-454b-a9ed-f7324c3e87c1"
      },
      "source": [
        "data.info()"
      ],
      "execution_count": 16,
      "outputs": [
        {
          "output_type": "stream",
          "text": [
            "<class 'pandas.core.frame.DataFrame'>\n",
            "Int64Index: 9054 entries, 1 to 17879\n",
            "Data columns (total 12 columns):\n",
            " #   Column               Non-Null Count  Dtype \n",
            "---  ------               --------------  ----- \n",
            " 0   title                9054 non-null   object\n",
            " 1   location             9054 non-null   object\n",
            " 2   department           9054 non-null   object\n",
            " 3   telecommuting        9054 non-null   int64 \n",
            " 4   has_company_logo     9054 non-null   int64 \n",
            " 5   has_questions        9054 non-null   int64 \n",
            " 6   employment_type      9054 non-null   object\n",
            " 7   required_experience  9054 non-null   object\n",
            " 8   required_education   9054 non-null   object\n",
            " 9   industry             9054 non-null   object\n",
            " 10  function             9054 non-null   object\n",
            " 11  fraudulent           9054 non-null   int64 \n",
            "dtypes: int64(4), object(8)\n",
            "memory usage: 919.5+ KB\n"
          ],
          "name": "stdout"
        }
      ]
    },
    {
      "cell_type": "markdown",
      "metadata": {
        "id": "6W5RQOP1uOY0",
        "colab_type": "text"
      },
      "source": [
        "#Data Preparation"
      ]
    },
    {
      "cell_type": "code",
      "metadata": {
        "id": "g1EjEhi1OZgj",
        "colab_type": "code",
        "colab": {}
      },
      "source": [
        "#split the dataset into 3 parts \n",
        "train, test = train_test_split(data, test_size=0.2)\n",
        "train, validation = train_test_split(train, test_size=0.2)"
      ],
      "execution_count": 0,
      "outputs": []
    },
    {
      "cell_type": "code",
      "metadata": {
        "id": "HBLwdqbBgbjH",
        "colab_type": "code",
        "colab": {}
      },
      "source": [
        "# use tf.data\n",
        "def convert_to_dataset(dataframe, shuffle=True, batch_size=32):\n",
        "  dataframe = dataframe.copy()\n",
        "  labels = dataframe.pop('fraudulent')\n",
        "  ds = tf.data.Dataset.from_tensor_slices((dict(dataframe), labels))\n",
        "  if shuffle:\n",
        "    ds = ds.shuffle(buffer_size=len(dataframe))\n",
        "  ds = ds.batch(batch_size)\n",
        "  return ds"
      ],
      "execution_count": 0,
      "outputs": []
    },
    {
      "cell_type": "code",
      "metadata": {
        "id": "v4kBqHKogdC4",
        "colab_type": "code",
        "colab": {}
      },
      "source": [
        "train_ds = convert_to_dataset(train)\n",
        "test_ds = convert_to_dataset(test)\n",
        "validation_ds = convert_to_dataset(validation)"
      ],
      "execution_count": 0,
      "outputs": []
    },
    {
      "cell_type": "code",
      "metadata": {
        "id": "tZ3A5s8virKG",
        "colab_type": "code",
        "colab": {
          "base_uri": "https://localhost:8080/",
          "height": 75
        },
        "outputId": "e8fab44a-a275-43fd-b41c-26078c0a1abe"
      },
      "source": [
        "for feature_batch, label_batch in train_ds.take(1):\n",
        "  print('Every feature:', list(feature_batch.keys()))\n",
        "  print('A batch of fraudulent:', label_batch )\n"
      ],
      "execution_count": 36,
      "outputs": [
        {
          "output_type": "stream",
          "text": [
            "Every feature: ['title', 'location', 'department', 'telecommuting', 'has_company_logo', 'has_questions', 'employment_type', 'required_experience', 'required_education', 'industry', 'function']\n",
            "A batch of fraudulent: tf.Tensor([0 0 0 0 0 0 0 0 0 0 0 1 0 0 0 0 0 0 0 0 1 0 0 0 0 0 0 0 0 0 0 0], shape=(32,), dtype=int64)\n"
          ],
          "name": "stdout"
        }
      ]
    },
    {
      "cell_type": "code",
      "metadata": {
        "id": "wpxh4SGkrIXg",
        "colab_type": "code",
        "colab": {
          "base_uri": "https://localhost:8080/",
          "height": 93
        },
        "outputId": "299e90ff-16df-407b-aed9-0f9747cd1217"
      },
      "source": [
        "data.columns"
      ],
      "execution_count": 58,
      "outputs": [
        {
          "output_type": "execute_result",
          "data": {
            "text/plain": [
              "Index(['title', 'location', 'department', 'telecommuting', 'has_company_logo',\n",
              "       'has_questions', 'employment_type', 'required_experience',\n",
              "       'required_education', 'industry', 'function', 'fraudulent'],\n",
              "      dtype='object')"
            ]
          },
          "metadata": {
            "tags": []
          },
          "execution_count": 58
        }
      ]
    },
    {
      "cell_type": "code",
      "metadata": {
        "id": "07gx9VIquzYE",
        "colab_type": "code",
        "colab": {}
      },
      "source": [
        "department = feature_column.categorical_column_with_vocabulary_list(\n",
        "      'department', data.department.value_counts().index)\n",
        "one_hot_department = feature_column.indicator_column(department)\n",
        "\n",
        "title = feature_column.categorical_column_with_vocabulary_list(\n",
        "      'title', data.title.value_counts().index)\n",
        "one_hot_title = feature_column.indicator_column(title)\n",
        "\n",
        "location = feature_column.categorical_column_with_vocabulary_list(\n",
        "      'location', data.location.value_counts().index)\n",
        "one_hot_location = feature_column.indicator_column(location)\n",
        "\n",
        "telecommuting = feature_column.categorical_column_with_vocabulary_list(\n",
        "      'telecommuting', data.telecommuting.value_counts().index)\n",
        "one_hot_telecommuting = feature_column.indicator_column(telecommuting)\n",
        "\n",
        "has_company_logo = feature_column.categorical_column_with_vocabulary_list(\n",
        "      'has_company_logo', data.has_company_logo.value_counts().index)\n",
        "one_hot_has_company_logo = feature_column.indicator_column(has_company_logo)\n",
        "\n",
        "has_questions = feature_column.categorical_column_with_vocabulary_list(\n",
        "      'has_questions', data.has_questions.value_counts().index)\n",
        "one_hot_has_question = feature_column.indicator_column(has_questions)\n",
        "\n",
        "employment_type = feature_column.categorical_column_with_vocabulary_list(\n",
        "      'employment_type', data.employment_type.value_counts().index)\n",
        "one_hot_employment_type = feature_column.indicator_column(employment_type)\n",
        "\n",
        "required_experience = feature_column.categorical_column_with_vocabulary_list(\n",
        "      'required_experience', data.required_experience.value_counts().index)\n",
        "one_hot_required_experience = feature_column.indicator_column(required_experience)\n",
        "\n",
        "required_education = feature_column.categorical_column_with_vocabulary_list(\n",
        "      'required_education', data.required_education.value_counts().index)\n",
        "one_hot_required_education = feature_column.indicator_column(required_education)\n",
        "\n",
        "industry = feature_column.categorical_column_with_vocabulary_list(\n",
        "      'industry', data.industry.value_counts().index)\n",
        "one_hot_industry = feature_column.indicator_column(industry)\n",
        "\n",
        "function = feature_column.categorical_column_with_vocabulary_list(\n",
        "      'function', data.function.value_counts().index)\n",
        "one_hot_function = feature_column.indicator_column(function)"
      ],
      "execution_count": 0,
      "outputs": []
    },
    {
      "cell_type": "code",
      "metadata": {
        "id": "Tpb_QPLUz3hs",
        "colab_type": "code",
        "colab": {
          "base_uri": "https://localhost:8080/",
          "height": 169
        },
        "outputId": "6b834df5-ef16-4af8-c86d-9aedc8a8a0fe"
      },
      "source": [
        "#create a feature layer\n",
        "feature_columns = []\n",
        "\n",
        "feature_columns.append(one_hot_department)\n",
        "feature_columns.append(one_hot_employment_type)\n",
        "feature_columns.append(one_hot_function)\n",
        "feature_columns.append(one_hot_has_company_logo)\n",
        "feature_columns.append(one_hot_has_question)\n",
        "feature_columns.append(one_hot_industry)\n",
        "feature_columns.append(one_hot_location)\n",
        "feature_columns.append(one_hot_required_education)\n",
        "feature_columns.append(one_hot_required_experience)\n",
        "feature_columns.append(one_hot_telecommuting)\n",
        "feature_columns.append(one_hot_title)\n",
        "\n",
        "feature_layer = layers.DenseFeatures(feature_columns)\n",
        "\n",
        "feature_layer(dict(train))"
      ],
      "execution_count": 63,
      "outputs": [
        {
          "output_type": "execute_result",
          "data": {
            "text/plain": [
              "<tf.Tensor: shape=(5794, 8958), dtype=float32, numpy=\n",
              "array([[1., 0., 0., ..., 0., 0., 0.],\n",
              "       [1., 0., 0., ..., 0., 0., 0.],\n",
              "       [0., 0., 0., ..., 0., 0., 0.],\n",
              "       ...,\n",
              "       [1., 0., 0., ..., 0., 0., 0.],\n",
              "       [0., 0., 0., ..., 0., 0., 0.],\n",
              "       [1., 0., 0., ..., 0., 0., 0.]], dtype=float32)>"
            ]
          },
          "metadata": {
            "tags": []
          },
          "execution_count": 63
        }
      ]
    },
    {
      "cell_type": "markdown",
      "metadata": {
        "id": "fSz0f-sf_AOw",
        "colab_type": "text"
      },
      "source": [
        "#Build Model"
      ]
    },
    {
      "cell_type": "code",
      "metadata": {
        "id": "qhesz5Vq_FZO",
        "colab_type": "code",
        "colab": {}
      },
      "source": [
        "def create_model(learning_rate, feature_layer, my_metrics):\n",
        "\n",
        "  model = tf.keras.models.Sequential()\n",
        "\n",
        "  model.add(feature_layer)\n",
        "\n",
        "  model.add(tf.keras.layers.Dense(units=1, input_shape=(1,),\n",
        "                                  activation=tf.sigmoid),)\n",
        "\n",
        "  model.compile(optimizer=tf.keras.optimizers.RMSprop(lr=learning_rate),                                                   \n",
        "                loss=tf.keras.losses.BinaryCrossentropy(),\n",
        "                metrics=my_metrics)\n",
        "\n",
        "  return model        \n",
        "\n",
        "def train_model(model, dataset, epochs, label_name,\n",
        "                batch_size=None, shuffle=True):\n",
        "  features = {name:np.array(value) for name, value in dataset.items()}\n",
        "  label = np.array(features.pop(label_name)) \n",
        "  history = model.fit(x=features, y=label, batch_size=batch_size,\n",
        "                      epochs=epochs, shuffle=shuffle)\n",
        "  \n",
        "  epochs = history.epoch\n",
        "\n",
        "  hist = pd.DataFrame(history.history)\n",
        "\n",
        "  return epochs, hist  "
      ],
      "execution_count": 0,
      "outputs": []
    },
    {
      "cell_type": "code",
      "metadata": {
        "id": "I-pfYfif_aS0",
        "colab_type": "code",
        "colab": {}
      },
      "source": [
        "def plot_curve(epochs, hist, list_of_metrics):\n",
        "  \n",
        "  plt.figure()\n",
        "  plt.xlabel(\"Epoch\")\n",
        "  plt.ylabel(\"Value\")\n",
        "\n",
        "  for m in list_of_metrics:\n",
        "    x = hist[m]\n",
        "    plt.plot(epochs[1:], x[1:], label=m)\n",
        "  plt.legend()\n"
      ],
      "execution_count": 0,
      "outputs": []
    },
    {
      "cell_type": "code",
      "metadata": {
        "id": "oP-UsF2BMZjR",
        "colab_type": "code",
        "colab": {}
      },
      "source": [
        ""
      ],
      "execution_count": 0,
      "outputs": []
    },
    {
      "cell_type": "code",
      "metadata": {
        "id": "cTAQdliQ_dl-",
        "colab_type": "code",
        "colab": {
          "base_uri": "https://localhost:8080/",
          "height": 1000
        },
        "outputId": "3c19c842-7eca-49ba-832b-c3ccf9b1b740"
      },
      "source": [
        "learning_rate = 0.05\n",
        "epochs = 50\n",
        "batch_size = 100\n",
        "label_name = \"fraudulent\"\n",
        "classification_threshold = 0.45\n",
        "\n",
        "METRICS = [\n",
        "           tf.keras.metrics.BinaryAccuracy(name='accuracy', \n",
        "                                           threshold=classification_threshold),\n",
        "          ]\n",
        "\n",
        "my_model = create_model(learning_rate, feature_layer, METRICS)\n",
        "\n",
        "epochs, hist = train_model(my_model, train, epochs, \n",
        "                           label_name, batch_size)\n",
        "\n",
        "list_of_metrics_to_plot = ['accuracy'] \n",
        "\n",
        "plot_curve(epochs, hist, list_of_metrics_to_plot)"
      ],
      "execution_count": 102,
      "outputs": [
        {
          "output_type": "stream",
          "text": [
            "Epoch 1/50\n",
            "58/58 [==============================] - 0s 5ms/step - loss: 0.1393 - accuracy: 0.9451\n",
            "Epoch 2/50\n",
            "58/58 [==============================] - 0s 4ms/step - loss: 0.0709 - accuracy: 0.9777\n",
            "Epoch 3/50\n",
            "58/58 [==============================] - 0s 4ms/step - loss: 0.0522 - accuracy: 0.9836\n",
            "Epoch 4/50\n",
            "58/58 [==============================] - 0s 4ms/step - loss: 0.0404 - accuracy: 0.9874\n",
            "Epoch 5/50\n",
            "58/58 [==============================] - 0s 5ms/step - loss: 0.0327 - accuracy: 0.9909\n",
            "Epoch 6/50\n",
            "58/58 [==============================] - 0s 4ms/step - loss: 0.0271 - accuracy: 0.9915\n",
            "Epoch 7/50\n",
            "58/58 [==============================] - 0s 4ms/step - loss: 0.0231 - accuracy: 0.9936\n",
            "Epoch 8/50\n",
            "58/58 [==============================] - 0s 4ms/step - loss: 0.0205 - accuracy: 0.9938\n",
            "Epoch 9/50\n",
            "58/58 [==============================] - 0s 4ms/step - loss: 0.0168 - accuracy: 0.9945\n",
            "Epoch 10/50\n",
            "58/58 [==============================] - 0s 4ms/step - loss: 0.0146 - accuracy: 0.9957\n",
            "Epoch 11/50\n",
            "58/58 [==============================] - 0s 5ms/step - loss: 0.0125 - accuracy: 0.9965\n",
            "Epoch 12/50\n",
            "58/58 [==============================] - 0s 4ms/step - loss: 0.0112 - accuracy: 0.9960\n",
            "Epoch 13/50\n",
            "58/58 [==============================] - 0s 4ms/step - loss: 0.0092 - accuracy: 0.9974\n",
            "Epoch 14/50\n",
            "58/58 [==============================] - 0s 4ms/step - loss: 0.0087 - accuracy: 0.9974\n",
            "Epoch 15/50\n",
            "58/58 [==============================] - 0s 4ms/step - loss: 0.0073 - accuracy: 0.9981\n",
            "Epoch 16/50\n",
            "58/58 [==============================] - 0s 4ms/step - loss: 0.0067 - accuracy: 0.9978\n",
            "Epoch 17/50\n",
            "58/58 [==============================] - 0s 4ms/step - loss: 0.0058 - accuracy: 0.9990\n",
            "Epoch 18/50\n",
            "58/58 [==============================] - 0s 5ms/step - loss: 0.0052 - accuracy: 0.9983\n",
            "Epoch 19/50\n",
            "58/58 [==============================] - 0s 4ms/step - loss: 0.0046 - accuracy: 0.9988\n",
            "Epoch 20/50\n",
            "58/58 [==============================] - 0s 4ms/step - loss: 0.0040 - accuracy: 0.9990\n",
            "Epoch 21/50\n",
            "58/58 [==============================] - 0s 4ms/step - loss: 0.0039 - accuracy: 0.9990\n",
            "Epoch 22/50\n",
            "58/58 [==============================] - 0s 5ms/step - loss: 0.0034 - accuracy: 0.9991\n",
            "Epoch 23/50\n",
            "58/58 [==============================] - 0s 4ms/step - loss: 0.0029 - accuracy: 0.9995\n",
            "Epoch 24/50\n",
            "58/58 [==============================] - 0s 5ms/step - loss: 0.0026 - accuracy: 0.9991\n",
            "Epoch 25/50\n",
            "58/58 [==============================] - 0s 4ms/step - loss: 0.0021 - accuracy: 0.9997\n",
            "Epoch 26/50\n",
            "58/58 [==============================] - 0s 4ms/step - loss: 0.0022 - accuracy: 0.9995\n",
            "Epoch 27/50\n",
            "58/58 [==============================] - 0s 4ms/step - loss: 0.0019 - accuracy: 0.9995\n",
            "Epoch 28/50\n",
            "58/58 [==============================] - 0s 5ms/step - loss: 0.0015 - accuracy: 0.9998\n",
            "Epoch 29/50\n",
            "58/58 [==============================] - 0s 4ms/step - loss: 0.0016 - accuracy: 0.9997\n",
            "Epoch 30/50\n",
            "58/58 [==============================] - 0s 4ms/step - loss: 0.0013 - accuracy: 0.9998\n",
            "Epoch 31/50\n",
            "58/58 [==============================] - 0s 4ms/step - loss: 0.0013 - accuracy: 0.9998\n",
            "Epoch 32/50\n",
            "58/58 [==============================] - 0s 4ms/step - loss: 0.0010 - accuracy: 0.9997\n",
            "Epoch 33/50\n",
            "58/58 [==============================] - 0s 4ms/step - loss: 9.6931e-04 - accuracy: 0.9998\n",
            "Epoch 34/50\n",
            "58/58 [==============================] - 0s 4ms/step - loss: 9.1456e-04 - accuracy: 0.9997\n",
            "Epoch 35/50\n",
            "58/58 [==============================] - 0s 4ms/step - loss: 7.6567e-04 - accuracy: 0.9998\n",
            "Epoch 36/50\n",
            "58/58 [==============================] - 0s 5ms/step - loss: 6.2860e-04 - accuracy: 1.0000\n",
            "Epoch 37/50\n",
            "58/58 [==============================] - 0s 5ms/step - loss: 6.1417e-04 - accuracy: 0.9998\n",
            "Epoch 38/50\n",
            "58/58 [==============================] - 0s 4ms/step - loss: 5.1356e-04 - accuracy: 1.0000\n",
            "Epoch 39/50\n",
            "58/58 [==============================] - 0s 5ms/step - loss: 4.3370e-04 - accuracy: 1.0000\n",
            "Epoch 40/50\n",
            "58/58 [==============================] - 0s 4ms/step - loss: 4.3665e-04 - accuracy: 1.0000\n",
            "Epoch 41/50\n",
            "58/58 [==============================] - 0s 4ms/step - loss: 3.4307e-04 - accuracy: 1.0000\n",
            "Epoch 42/50\n",
            "58/58 [==============================] - 0s 4ms/step - loss: 2.9923e-04 - accuracy: 1.0000\n",
            "Epoch 43/50\n",
            "58/58 [==============================] - 0s 5ms/step - loss: 2.9228e-04 - accuracy: 1.0000\n",
            "Epoch 44/50\n",
            "58/58 [==============================] - 0s 4ms/step - loss: 2.5288e-04 - accuracy: 1.0000\n",
            "Epoch 45/50\n",
            "58/58 [==============================] - 0s 4ms/step - loss: 1.9662e-04 - accuracy: 1.0000\n",
            "Epoch 46/50\n",
            "58/58 [==============================] - 0s 4ms/step - loss: 2.8499e-04 - accuracy: 1.0000\n",
            "Epoch 47/50\n",
            "58/58 [==============================] - 0s 5ms/step - loss: 2.0557e-04 - accuracy: 1.0000\n",
            "Epoch 48/50\n",
            "58/58 [==============================] - 0s 4ms/step - loss: 1.9450e-04 - accuracy: 1.0000\n",
            "Epoch 49/50\n",
            "58/58 [==============================] - 0s 4ms/step - loss: 1.3692e-04 - accuracy: 1.0000\n",
            "Epoch 50/50\n",
            "58/58 [==============================] - 0s 5ms/step - loss: 1.2094e-04 - accuracy: 1.0000\n"
          ],
          "name": "stdout"
        },
        {
          "output_type": "display_data",
          "data": {
            "image/png": "[encoded data removed]",
            "text/plain": [
              "<Figure size 432x288 with 1 Axes>"
            ]
          },
          "metadata": {
            "tags": []
          }
        }
      ]
    },
    {
      "cell_type": "code",
      "metadata": {
        "id": "O4r7M3PM_oxA",
        "colab_type": "code",
        "colab": {
          "base_uri": "https://localhost:8080/",
          "height": 284
        },
        "outputId": "fa2cae2a-6b8b-4c40-9c6f-dc886e13a9bb"
      },
      "source": [
        "plt.plot(epochs,hist.loss)"
      ],
      "execution_count": 103,
      "outputs": [
        {
          "output_type": "execute_result",
          "data": {
            "text/plain": [
              "[<matplotlib.lines.Line2D at 0x7f6dc106c278>]"
            ]
          },
          "metadata": {
            "tags": []
          },
          "execution_count": 103
        },
        {
          "output_type": "display_data",
          "data": {
            "image/png": "[encoded data removed]",
            "text/plain": [
              "<Figure size 432x288 with 1 Axes>"
            ]
          },
          "metadata": {
            "tags": []
          }
        }
      ]
    },
    {
      "cell_type": "code",
      "metadata": {
        "id": "HMOTcb-HMqe7",
        "colab_type": "code",
        "colab": {
          "base_uri": "https://localhost:8080/",
          "height": 235
        },
        "outputId": "f71cd05d-7253-4ac4-ef40-55a0c13f2250"
      },
      "source": [
        "features = {name:np.array(value) for name, value in test.items()}\n",
        "label = np.array(features.pop(label_name))\n",
        "\n",
        "my_model.evaluate(x = features, y = label, batch_size=batch_size)"
      ],
      "execution_count": 1,
      "outputs": [
        {
          "output_type": "error",
          "ename": "NameError",
          "evalue": "ignored",
          "traceback": [
            "\u001b[0;31m---------------------------------------------------------------------------\u001b[0m",
            "\u001b[0;31mNameError\u001b[0m                                 Traceback (most recent call last)",
            "\u001b[0;32m<ipython-input-1-1abb38018167>\u001b[0m in \u001b[0;36m<module>\u001b[0;34m()\u001b[0m\n\u001b[0;32m----> 1\u001b[0;31m \u001b[0mfeatures\u001b[0m \u001b[0;34m=\u001b[0m \u001b[0;34m{\u001b[0m\u001b[0mname\u001b[0m\u001b[0;34m:\u001b[0m\u001b[0mnp\u001b[0m\u001b[0;34m.\u001b[0m\u001b[0marray\u001b[0m\u001b[0;34m(\u001b[0m\u001b[0mvalue\u001b[0m\u001b[0;34m)\u001b[0m \u001b[0;32mfor\u001b[0m \u001b[0mname\u001b[0m\u001b[0;34m,\u001b[0m \u001b[0mvalue\u001b[0m \u001b[0;32min\u001b[0m \u001b[0mtest\u001b[0m\u001b[0;34m.\u001b[0m\u001b[0mitems\u001b[0m\u001b[0;34m(\u001b[0m\u001b[0;34m)\u001b[0m\u001b[0;34m}\u001b[0m\u001b[0;34m\u001b[0m\u001b[0;34m\u001b[0m\u001b[0m\n\u001b[0m\u001b[1;32m      2\u001b[0m \u001b[0mlabel\u001b[0m \u001b[0;34m=\u001b[0m \u001b[0mnp\u001b[0m\u001b[0;34m.\u001b[0m\u001b[0marray\u001b[0m\u001b[0;34m(\u001b[0m\u001b[0mfeatures\u001b[0m\u001b[0;34m.\u001b[0m\u001b[0mpop\u001b[0m\u001b[0;34m(\u001b[0m\u001b[0mlabel_name\u001b[0m\u001b[0;34m)\u001b[0m\u001b[0;34m)\u001b[0m\u001b[0;34m\u001b[0m\u001b[0;34m\u001b[0m\u001b[0m\n\u001b[1;32m      3\u001b[0m \u001b[0;34m\u001b[0m\u001b[0m\n\u001b[1;32m      4\u001b[0m \u001b[0mmy_model\u001b[0m\u001b[0;34m.\u001b[0m\u001b[0mevaluate\u001b[0m\u001b[0;34m(\u001b[0m\u001b[0mx\u001b[0m \u001b[0;34m=\u001b[0m \u001b[0mfeatures\u001b[0m\u001b[0;34m,\u001b[0m \u001b[0my\u001b[0m \u001b[0;34m=\u001b[0m \u001b[0mlabel\u001b[0m\u001b[0;34m,\u001b[0m \u001b[0mbatch_size\u001b[0m\u001b[0;34m=\u001b[0m\u001b[0mbatch_size\u001b[0m\u001b[0;34m)\u001b[0m\u001b[0;34m\u001b[0m\u001b[0;34m\u001b[0m\u001b[0m\n",
            "\u001b[0;31mNameError\u001b[0m: name 'test' is not defined"
          ]
        }
      ]
    },
    {
      "cell_type": "code",
      "metadata": {
        "id": "AqCTyJpONloP",
        "colab_type": "code",
        "colab": {}
      },
      "source": [
        ""
      ],
      "execution_count": 0,
      "outputs": []
    }
  ]
}