{
  "nbformat": 4,
  "nbformat_minor": 0,
  "metadata": {
    "colab": {
      "name": "MLCC_JobPostingWithEDA.ipynb",
      "provenance": []
    },
    "kernelspec": {
      "name": "python3",
      "display_name": "Python 3"
    }
  },
  "cells": [
    {
      "cell_type": "code",
      "metadata": {
        "id": "hYFkorIAWOAW",
        "colab_type": "code",
        "colab": {}
      },
      "source": [
        "#select the tensor flow version 2\n",
        "%tensorflow_version 2.x "
      ],
      "execution_count": 0,
      "outputs": []
    },
    {
      "cell_type": "code",
      "metadata": {
        "id": "2trgOBWOWEPK",
        "colab_type": "code",
        "colab": {}
      },
      "source": [
        "#import the required moduls\n",
        "import pandas as pd\n",
        "import matplotlib.pyplot as plt\n",
        "import numpy as np\n",
        "import tensorflow as tf\n",
        "from tensorflow import feature_column\n",
        "from tensorflow.keras import layers\n",
        "from sklearn.model_selection import train_test_split"
      ],
      "execution_count": 0,
      "outputs": []
    },
    {
      "cell_type": "code",
      "metadata": {
        "id": "IkNPP3-7WTgL",
        "colab_type": "code",
        "colab": {
          "base_uri": "https://localhost:8080/",
          "height": 366
        },
        "outputId": "94e6d386-edcf-46e0-9239-053210f31823"
      },
      "source": [
        "#import the dataset\n",
        "data = pd.read_csv('/content/drive/My Drive/Bangkit Project/MLCC/fake_job_postings.csv')\n",
        "data.head(3)"
      ],
      "execution_count": 21,
      "outputs": [
        {
          "output_type": "execute_result",
          "data": {
            "text/html": [
              "<div>\n",
              "<style scoped>\n",
              "    .dataframe tbody tr th:only-of-type {\n",
              "        vertical-align: middle;\n",
              "    }\n",
              "\n",
              "    .dataframe tbody tr th {\n",
              "        vertical-align: top;\n",
              "    }\n",
              "\n",
              "    .dataframe thead th {\n",
              "        text-align: right;\n",
              "    }\n",
              "</style>\n",
              "<table border=\"1\" class=\"dataframe\">\n",
              "  <thead>\n",
              "    <tr style=\"text-align: right;\">\n",
              "      <th></th>\n",
              "      <th>job_id</th>\n",
              "      <th>title</th>\n",
              "      <th>location</th>\n",
              "      <th>department</th>\n",
              "      <th>salary_range</th>\n",
              "      <th>company_profile</th>\n",
              "      <th>description</th>\n",
              "      <th>requirements</th>\n",
              "      <th>benefits</th>\n",
              "      <th>telecommuting</th>\n",
              "      <th>has_company_logo</th>\n",
              "      <th>has_questions</th>\n",
              "      <th>employment_type</th>\n",
              "      <th>required_experience</th>\n",
              "      <th>required_education</th>\n",
              "      <th>industry</th>\n",
              "      <th>function</th>\n",
              "      <th>fraudulent</th>\n",
              "    </tr>\n",
              "  </thead>\n",
              "  <tbody>\n",
              "    <tr>\n",
              "      <th>0</th>\n",
              "      <td>1</td>\n",
              "      <td>Marketing Intern</td>\n",
              "      <td>US, NY, New York</td>\n",
              "      <td>Marketing</td>\n",
              "      <td>NaN</td>\n",
              "      <td>We're Food52, and we've created a groundbreaki...</td>\n",
              "      <td>Food52, a fast-growing, James Beard Award-winn...</td>\n",
              "      <td>Experience with content management systems a m...</td>\n",
              "      <td>NaN</td>\n",
              "      <td>0</td>\n",
              "      <td>1</td>\n",
              "      <td>0</td>\n",
              "      <td>Other</td>\n",
              "      <td>Internship</td>\n",
              "      <td>NaN</td>\n",
              "      <td>NaN</td>\n",
              "      <td>Marketing</td>\n",
              "      <td>0</td>\n",
              "    </tr>\n",
              "    <tr>\n",
              "      <th>1</th>\n",
              "      <td>2</td>\n",
              "      <td>Customer Service - Cloud Video Production</td>\n",
              "      <td>NZ, , Auckland</td>\n",
              "      <td>Success</td>\n",
              "      <td>NaN</td>\n",
              "      <td>90 Seconds, the worlds Cloud Video Production ...</td>\n",
              "      <td>Organised - Focused - Vibrant - Awesome!Do you...</td>\n",
              "      <td>What we expect from you:Your key responsibilit...</td>\n",
              "      <td>What you will get from usThrough being part of...</td>\n",
              "      <td>0</td>\n",
              "      <td>1</td>\n",
              "      <td>0</td>\n",
              "      <td>Full-time</td>\n",
              "      <td>Not Applicable</td>\n",
              "      <td>NaN</td>\n",
              "      <td>Marketing and Advertising</td>\n",
              "      <td>Customer Service</td>\n",
              "      <td>0</td>\n",
              "    </tr>\n",
              "    <tr>\n",
              "      <th>2</th>\n",
              "      <td>3</td>\n",
              "      <td>Commissioning Machinery Assistant (CMA)</td>\n",
              "      <td>US, IA, Wever</td>\n",
              "      <td>NaN</td>\n",
              "      <td>NaN</td>\n",
              "      <td>Valor Services provides Workforce Solutions th...</td>\n",
              "      <td>Our client, located in Houston, is actively se...</td>\n",
              "      <td>Implement pre-commissioning and commissioning ...</td>\n",
              "      <td>NaN</td>\n",
              "      <td>0</td>\n",
              "      <td>1</td>\n",
              "      <td>0</td>\n",
              "      <td>NaN</td>\n",
              "      <td>NaN</td>\n",
              "      <td>NaN</td>\n",
              "      <td>NaN</td>\n",
              "      <td>NaN</td>\n",
              "      <td>0</td>\n",
              "    </tr>\n",
              "  </tbody>\n",
              "</table>\n",
              "</div>"
            ],
            "text/plain": [
              "   job_id  ... fraudulent\n",
              "0       1  ...          0\n",
              "1       2  ...          0\n",
              "2       3  ...          0\n",
              "\n",
              "[3 rows x 18 columns]"
            ]
          },
          "metadata": {
            "tags": []
          },
          "execution_count": 21
        }
      ]
    },
    {
      "cell_type": "markdown",
      "metadata": {
        "id": "Z6ER8bT-XRZK",
        "colab_type": "text"
      },
      "source": [
        "#Data Analysis and Data Cleaning"
      ]
    },
    {
      "cell_type": "code",
      "metadata": {
        "id": "Wq2PPzMlWd03",
        "colab_type": "code",
        "colab": {
          "base_uri": "https://localhost:8080/",
          "height": 378
        },
        "outputId": "436ed1cb-36d4-47b2-d82d-d721900d6dfc"
      },
      "source": [
        "#cheking for the null or Nan Values\n",
        "data.isnull().sum()/data.shape[0]*100"
      ],
      "execution_count": 22,
      "outputs": [
        {
          "output_type": "execute_result",
          "data": {
            "text/plain": [
              "job_id                  0.000000\n",
              "title                   0.000000\n",
              "location                1.935123\n",
              "department             64.580537\n",
              "salary_range           83.959732\n",
              "company_profile        18.501119\n",
              "description             0.005593\n",
              "requirements           15.072707\n",
              "benefits               40.324385\n",
              "telecommuting           0.000000\n",
              "has_company_logo        0.000000\n",
              "has_questions           0.000000\n",
              "employment_type        19.412752\n",
              "required_experience    39.429530\n",
              "required_education     45.329978\n",
              "industry               27.421700\n",
              "function               36.101790\n",
              "fraudulent              0.000000\n",
              "dtype: float64"
            ]
          },
          "metadata": {
            "tags": []
          },
          "execution_count": 22
        }
      ]
    },
    {
      "cell_type": "markdown",
      "metadata": {
        "id": "X0cf2sxWaEmz",
        "colab_type": "text"
      },
      "source": [
        "job_id didnt give us any informations, and salary_range has too many null or Nan value (84%). so drop these columns"
      ]
    },
    {
      "cell_type": "code",
      "metadata": {
        "id": "DZxV0UKpZLe2",
        "colab_type": "code",
        "colab": {}
      },
      "source": [
        "#drop unused columns\n",
        "data = data.drop(['job_id','salary_range'],axis=1)"
      ],
      "execution_count": 0,
      "outputs": []
    },
    {
      "cell_type": "code",
      "metadata": {
        "id": "2di74nOYU1HR",
        "colab_type": "code",
        "colab": {}
      },
      "source": [
        ""
      ],
      "execution_count": 0,
      "outputs": []
    },
    {
      "cell_type": "code",
      "metadata": {
        "id": "Z3x8PYWLb7Ot",
        "colab_type": "code",
        "colab": {
          "base_uri": "https://localhost:8080/",
          "height": 36
        },
        "outputId": "33dd6c3b-9f70-4915-803c-2e214596ae3b"
      },
      "source": [
        "#cheking department column\n",
        "data.department.isnull().sum()"
      ],
      "execution_count": 24,
      "outputs": [
        {
          "output_type": "execute_result",
          "data": {
            "text/plain": [
              "11547"
            ]
          },
          "metadata": {
            "tags": []
          },
          "execution_count": 24
        }
      ]
    },
    {
      "cell_type": "markdown",
      "metadata": {
        "id": "yGAsVBccebym",
        "colab_type": "text"
      },
      "source": [
        "there is 11.547 null or Nan value in department column, fill this value with \"other\" category (unspecified department)"
      ]
    },
    {
      "cell_type": "code",
      "metadata": {
        "id": "OUFG_0UJb8xD",
        "colab_type": "code",
        "colab": {}
      },
      "source": [
        "#fill \"other\" category to department column\n",
        "data.department = data.department.fillna(value='other')"
      ],
      "execution_count": 0,
      "outputs": []
    },
    {
      "cell_type": "code",
      "metadata": {
        "id": "dBtI3GezfGgJ",
        "colab_type": "code",
        "colab": {
          "base_uri": "https://localhost:8080/",
          "height": 36
        },
        "outputId": "c220304c-c38b-4690-9cbd-af25e9c008ee"
      },
      "source": [
        "#chek the required_education \n",
        "data.required_education.isnull().sum()/data.shape[0]"
      ],
      "execution_count": 26,
      "outputs": [
        {
          "output_type": "execute_result",
          "data": {
            "text/plain": [
              "0.4532997762863535"
            ]
          },
          "metadata": {
            "tags": []
          },
          "execution_count": 26
        }
      ]
    },
    {
      "cell_type": "markdown",
      "metadata": {
        "id": "ofqBDo6sgbHY",
        "colab_type": "text"
      },
      "source": [
        "45.3% of required_education value is null or Nan value, fill this value with \"other\" category (no need specific education background)"
      ]
    },
    {
      "cell_type": "code",
      "metadata": {
        "id": "-8gX5XiAf0PG",
        "colab_type": "code",
        "colab": {}
      },
      "source": [
        "#fill \"other\" category to required_education column\n",
        "data.required_education = data.required_education.fillna(value='other')"
      ],
      "execution_count": 0,
      "outputs": []
    },
    {
      "cell_type": "code",
      "metadata": {
        "id": "m65jyoTSgW_m",
        "colab_type": "code",
        "colab": {
          "base_uri": "https://localhost:8080/",
          "height": 36
        },
        "outputId": "394d6125-f8d2-46d1-e5ed-aa5faf55aeb7"
      },
      "source": [
        "data.required_experience.isnull().sum()/data.shape[0]*100"
      ],
      "execution_count": 28,
      "outputs": [
        {
          "output_type": "execute_result",
          "data": {
            "text/plain": [
              "39.42953020134228"
            ]
          },
          "metadata": {
            "tags": []
          },
          "execution_count": 28
        }
      ]
    },
    {
      "cell_type": "code",
      "metadata": {
        "id": "jv8Pk1nAjh5G",
        "colab_type": "code",
        "colab": {
          "base_uri": "https://localhost:8080/",
          "height": 169
        },
        "outputId": "90d86458-c74b-4f10-83c6-4538fa0f2061"
      },
      "source": [
        "data.required_experience.value_counts()"
      ],
      "execution_count": 29,
      "outputs": [
        {
          "output_type": "execute_result",
          "data": {
            "text/plain": [
              "Mid-Senior level    3809\n",
              "Entry level         2697\n",
              "Associate           2297\n",
              "Not Applicable      1116\n",
              "Director             389\n",
              "Internship           381\n",
              "Executive            141\n",
              "Name: required_experience, dtype: int64"
            ]
          },
          "metadata": {
            "tags": []
          },
          "execution_count": 29
        }
      ]
    },
    {
      "cell_type": "markdown",
      "metadata": {
        "id": "x8xmYfFyi-86",
        "colab_type": "text"
      },
      "source": [
        "39% of required_experience is null or Nan value, but there is no \"other\" category for required experience. All possible category are already exist. so I will drop the null or Nan value."
      ]
    },
    {
      "cell_type": "code",
      "metadata": {
        "id": "hvwdruxJi18L",
        "colab_type": "code",
        "colab": {
          "base_uri": "https://localhost:8080/",
          "height": 366
        },
        "outputId": "9d2f6a21-4f29-4d58-f75f-d26d4f4bf98c"
      },
      "source": [
        "data.head(3)"
      ],
      "execution_count": 30,
      "outputs": [
        {
          "output_type": "execute_result",
          "data": {
            "text/html": [
              "<div>\n",
              "<style scoped>\n",
              "    .dataframe tbody tr th:only-of-type {\n",
              "        vertical-align: middle;\n",
              "    }\n",
              "\n",
              "    .dataframe tbody tr th {\n",
              "        vertical-align: top;\n",
              "    }\n",
              "\n",
              "    .dataframe thead th {\n",
              "        text-align: right;\n",
              "    }\n",
              "</style>\n",
              "<table border=\"1\" class=\"dataframe\">\n",
              "  <thead>\n",
              "    <tr style=\"text-align: right;\">\n",
              "      <th></th>\n",
              "      <th>title</th>\n",
              "      <th>location</th>\n",
              "      <th>department</th>\n",
              "      <th>company_profile</th>\n",
              "      <th>description</th>\n",
              "      <th>requirements</th>\n",
              "      <th>benefits</th>\n",
              "      <th>telecommuting</th>\n",
              "      <th>has_company_logo</th>\n",
              "      <th>has_questions</th>\n",
              "      <th>employment_type</th>\n",
              "      <th>required_experience</th>\n",
              "      <th>required_education</th>\n",
              "      <th>industry</th>\n",
              "      <th>function</th>\n",
              "      <th>fraudulent</th>\n",
              "    </tr>\n",
              "  </thead>\n",
              "  <tbody>\n",
              "    <tr>\n",
              "      <th>0</th>\n",
              "      <td>Marketing Intern</td>\n",
              "      <td>US, NY, New York</td>\n",
              "      <td>Marketing</td>\n",
              "      <td>We're Food52, and we've created a groundbreaki...</td>\n",
              "      <td>Food52, a fast-growing, James Beard Award-winn...</td>\n",
              "      <td>Experience with content management systems a m...</td>\n",
              "      <td>NaN</td>\n",
              "      <td>0</td>\n",
              "      <td>1</td>\n",
              "      <td>0</td>\n",
              "      <td>Other</td>\n",
              "      <td>Internship</td>\n",
              "      <td>other</td>\n",
              "      <td>NaN</td>\n",
              "      <td>Marketing</td>\n",
              "      <td>0</td>\n",
              "    </tr>\n",
              "    <tr>\n",
              "      <th>1</th>\n",
              "      <td>Customer Service - Cloud Video Production</td>\n",
              "      <td>NZ, , Auckland</td>\n",
              "      <td>Success</td>\n",
              "      <td>90 Seconds, the worlds Cloud Video Production ...</td>\n",
              "      <td>Organised - Focused - Vibrant - Awesome!Do you...</td>\n",
              "      <td>What we expect from you:Your key responsibilit...</td>\n",
              "      <td>What you will get from usThrough being part of...</td>\n",
              "      <td>0</td>\n",
              "      <td>1</td>\n",
              "      <td>0</td>\n",
              "      <td>Full-time</td>\n",
              "      <td>Not Applicable</td>\n",
              "      <td>other</td>\n",
              "      <td>Marketing and Advertising</td>\n",
              "      <td>Customer Service</td>\n",
              "      <td>0</td>\n",
              "    </tr>\n",
              "    <tr>\n",
              "      <th>2</th>\n",
              "      <td>Commissioning Machinery Assistant (CMA)</td>\n",
              "      <td>US, IA, Wever</td>\n",
              "      <td>other</td>\n",
              "      <td>Valor Services provides Workforce Solutions th...</td>\n",
              "      <td>Our client, located in Houston, is actively se...</td>\n",
              "      <td>Implement pre-commissioning and commissioning ...</td>\n",
              "      <td>NaN</td>\n",
              "      <td>0</td>\n",
              "      <td>1</td>\n",
              "      <td>0</td>\n",
              "      <td>NaN</td>\n",
              "      <td>NaN</td>\n",
              "      <td>other</td>\n",
              "      <td>NaN</td>\n",
              "      <td>NaN</td>\n",
              "      <td>0</td>\n",
              "    </tr>\n",
              "  </tbody>\n",
              "</table>\n",
              "</div>"
            ],
            "text/plain": [
              "                                       title  ... fraudulent\n",
              "0                           Marketing Intern  ...          0\n",
              "1  Customer Service - Cloud Video Production  ...          0\n",
              "2    Commissioning Machinery Assistant (CMA)  ...          0\n",
              "\n",
              "[3 rows x 16 columns]"
            ]
          },
          "metadata": {
            "tags": []
          },
          "execution_count": 30
        }
      ]
    },
    {
      "cell_type": "markdown",
      "metadata": {
        "id": "Lt2uGqIwLXOS",
        "colab_type": "text"
      },
      "source": [
        "company_profile,description, requirements, benefits columns are note categorical or numerical, so drop these columns"
      ]
    },
    {
      "cell_type": "code",
      "metadata": {
        "id": "-LuArz77owK2",
        "colab_type": "code",
        "colab": {}
      },
      "source": [
        "data = data.drop(['company_profile','description','benefits','requirements'],axis=1)"
      ],
      "execution_count": 0,
      "outputs": []
    },
    {
      "cell_type": "code",
      "metadata": {
        "id": "BAVo7XeXNBC9",
        "colab_type": "code",
        "colab": {}
      },
      "source": [
        "#drop all Nan or null value\n",
        "data = data.dropna()"
      ],
      "execution_count": 0,
      "outputs": []
    },
    {
      "cell_type": "code",
      "metadata": {
        "id": "Y6aezUGSOKlu",
        "colab_type": "code",
        "colab": {
          "base_uri": "https://localhost:8080/",
          "height": 378
        },
        "outputId": "cc6a831a-628b-407c-a946-73cd053b760b"
      },
      "source": [
        "data.info()"
      ],
      "execution_count": 33,
      "outputs": [
        {
          "output_type": "stream",
          "text": [
            "<class 'pandas.core.frame.DataFrame'>\n",
            "Int64Index: 9054 entries, 1 to 17879\n",
            "Data columns (total 12 columns):\n",
            " #   Column               Non-Null Count  Dtype \n",
            "---  ------               --------------  ----- \n",
            " 0   title                9054 non-null   object\n",
            " 1   location             9054 non-null   object\n",
            " 2   department           9054 non-null   object\n",
            " 3   telecommuting        9054 non-null   int64 \n",
            " 4   has_company_logo     9054 non-null   int64 \n",
            " 5   has_questions        9054 non-null   int64 \n",
            " 6   employment_type      9054 non-null   object\n",
            " 7   required_experience  9054 non-null   object\n",
            " 8   required_education   9054 non-null   object\n",
            " 9   industry             9054 non-null   object\n",
            " 10  function             9054 non-null   object\n",
            " 11  fraudulent           9054 non-null   int64 \n",
            "dtypes: int64(4), object(8)\n",
            "memory usage: 919.5+ KB\n"
          ],
          "name": "stdout"
        }
      ]
    },
    {
      "cell_type": "markdown",
      "metadata": {
        "id": "6W5RQOP1uOY0",
        "colab_type": "text"
      },
      "source": [
        "#Data Preparation"
      ]
    },
    {
      "cell_type": "code",
      "metadata": {
        "id": "g1EjEhi1OZgj",
        "colab_type": "code",
        "colab": {}
      },
      "source": [
        "#split the dataset into 3 parts \n",
        "train, test = train_test_split(data, test_size=0.2)\n",
        "train, validation = train_test_split(train, test_size=0.2)"
      ],
      "execution_count": 0,
      "outputs": []
    },
    {
      "cell_type": "code",
      "metadata": {
        "id": "HBLwdqbBgbjH",
        "colab_type": "code",
        "colab": {}
      },
      "source": [
        "# use tf.data\n",
        "def convert_to_dataset(dataframe, shuffle=True, batch_size=32):\n",
        "  dataframe = dataframe.copy()\n",
        "  labels = dataframe.pop('fraudulent')\n",
        "  ds = tf.data.Dataset.from_tensor_slices((dict(dataframe), labels))\n",
        "  if shuffle:\n",
        "    ds = ds.shuffle(buffer_size=len(dataframe))\n",
        "  ds = ds.batch(batch_size)\n",
        "  return ds"
      ],
      "execution_count": 0,
      "outputs": []
    },
    {
      "cell_type": "code",
      "metadata": {
        "id": "v4kBqHKogdC4",
        "colab_type": "code",
        "colab": {}
      },
      "source": [
        "train_ds = convert_to_dataset(train)\n",
        "test_ds = convert_to_dataset(test)\n",
        "validation_ds = convert_to_dataset(validation)"
      ],
      "execution_count": 0,
      "outputs": []
    },
    {
      "cell_type": "code",
      "metadata": {
        "id": "tZ3A5s8virKG",
        "colab_type": "code",
        "colab": {
          "base_uri": "https://localhost:8080/",
          "height": 75
        },
        "outputId": "870d4653-cb27-4544-ddf2-491d41cba911"
      },
      "source": [
        "for feature_batch, label_batch in train_ds.take(1):\n",
        "  print('Every feature:', list(feature_batch.keys()))\n",
        "  print('A batch of fraudulent:', label_batch )"
      ],
      "execution_count": 37,
      "outputs": [
        {
          "output_type": "stream",
          "text": [
            "Every feature: ['title', 'location', 'department', 'telecommuting', 'has_company_logo', 'has_questions', 'employment_type', 'required_experience', 'required_education', 'industry', 'function']\n",
            "A batch of fraudulent: tf.Tensor([0 0 1 0 0 0 0 0 0 0 0 0 0 0 0 0 0 0 0 0 0 0 0 0 0 0 0 0 0 0 0 0], shape=(32,), dtype=int64)\n"
          ],
          "name": "stdout"
        }
      ]
    },
    {
      "cell_type": "code",
      "metadata": {
        "id": "wpxh4SGkrIXg",
        "colab_type": "code",
        "colab": {
          "base_uri": "https://localhost:8080/",
          "height": 93
        },
        "outputId": "b52f8588-a3ba-425a-d928-2961279d266d"
      },
      "source": [
        "data.columns"
      ],
      "execution_count": 38,
      "outputs": [
        {
          "output_type": "execute_result",
          "data": {
            "text/plain": [
              "Index(['title', 'location', 'department', 'telecommuting', 'has_company_logo',\n",
              "       'has_questions', 'employment_type', 'required_experience',\n",
              "       'required_education', 'industry', 'function', 'fraudulent'],\n",
              "      dtype='object')"
            ]
          },
          "metadata": {
            "tags": []
          },
          "execution_count": 38
        }
      ]
    },
    {
      "cell_type": "code",
      "metadata": {
        "id": "07gx9VIquzYE",
        "colab_type": "code",
        "colab": {}
      },
      "source": [
        "#create one-hot encoding for all categorical feature\n",
        "\n",
        "department = feature_column.categorical_column_with_vocabulary_list(\n",
        "      'department', data.department.value_counts().index)\n",
        "one_hot_department = feature_column.indicator_column(department)\n",
        "\n",
        "title = feature_column.categorical_column_with_vocabulary_list(\n",
        "      'title', data.title.value_counts().index)\n",
        "one_hot_title = feature_column.indicator_column(title)\n",
        "\n",
        "location = feature_column.categorical_column_with_vocabulary_list(\n",
        "      'location', data.location.value_counts().index)\n",
        "one_hot_location = feature_column.indicator_column(location)\n",
        "\n",
        "telecommuting = feature_column.categorical_column_with_vocabulary_list(\n",
        "      'telecommuting', data.telecommuting.value_counts().index)\n",
        "one_hot_telecommuting = feature_column.indicator_column(telecommuting)\n",
        "\n",
        "has_company_logo = feature_column.categorical_column_with_vocabulary_list(\n",
        "      'has_company_logo', data.has_company_logo.value_counts().index)\n",
        "one_hot_has_company_logo = feature_column.indicator_column(has_company_logo)\n",
        "\n",
        "has_questions = feature_column.categorical_column_with_vocabulary_list(\n",
        "      'has_questions', data.has_questions.value_counts().index)\n",
        "one_hot_has_question = feature_column.indicator_column(has_questions)\n",
        "\n",
        "employment_type = feature_column.categorical_column_with_vocabulary_list(\n",
        "      'employment_type', data.employment_type.value_counts().index)\n",
        "one_hot_employment_type = feature_column.indicator_column(employment_type)\n",
        "\n",
        "required_experience = feature_column.categorical_column_with_vocabulary_list(\n",
        "      'required_experience', data.required_experience.value_counts().index)\n",
        "one_hot_required_experience = feature_column.indicator_column(required_experience)\n",
        "\n",
        "required_education = feature_column.categorical_column_with_vocabulary_list(\n",
        "      'required_education', data.required_education.value_counts().index)\n",
        "one_hot_required_education = feature_column.indicator_column(required_education)\n",
        "\n",
        "industry = feature_column.categorical_column_with_vocabulary_list(\n",
        "      'industry', data.industry.value_counts().index)\n",
        "one_hot_industry = feature_column.indicator_column(industry)\n",
        "\n",
        "function = feature_column.categorical_column_with_vocabulary_list(\n",
        "      'function', data.function.value_counts().index)\n",
        "one_hot_function = feature_column.indicator_column(function)"
      ],
      "execution_count": 0,
      "outputs": []
    },
    {
      "cell_type": "code",
      "metadata": {
        "id": "Tpb_QPLUz3hs",
        "colab_type": "code",
        "colab": {
          "base_uri": "https://localhost:8080/",
          "height": 169
        },
        "outputId": "3b6c71ea-832c-4bb6-eaea-78f909c62932"
      },
      "source": [
        "#create a feature layer\n",
        "feature_columns = []\n",
        "\n",
        "feature_columns.append(one_hot_department)\n",
        "feature_columns.append(one_hot_employment_type)\n",
        "feature_columns.append(one_hot_function)\n",
        "feature_columns.append(one_hot_has_company_logo)\n",
        "feature_columns.append(one_hot_has_question)\n",
        "feature_columns.append(one_hot_industry)\n",
        "feature_columns.append(one_hot_location)\n",
        "feature_columns.append(one_hot_required_education)\n",
        "feature_columns.append(one_hot_required_experience)\n",
        "feature_columns.append(one_hot_telecommuting)\n",
        "feature_columns.append(one_hot_title)\n",
        "\n",
        "feature_layer = layers.DenseFeatures(feature_columns)\n",
        "\n",
        "feature_layer(dict(train))"
      ],
      "execution_count": 40,
      "outputs": [
        {
          "output_type": "execute_result",
          "data": {
            "text/plain": [
              "<tf.Tensor: shape=(5794, 8958), dtype=float32, numpy=\n",
              "array([[0., 0., 0., ..., 0., 0., 0.],\n",
              "       [0., 0., 0., ..., 0., 0., 0.],\n",
              "       [1., 0., 0., ..., 0., 0., 0.],\n",
              "       ...,\n",
              "       [1., 0., 0., ..., 0., 0., 0.],\n",
              "       [1., 0., 0., ..., 0., 0., 0.],\n",
              "       [0., 0., 0., ..., 0., 0., 0.]], dtype=float32)>"
            ]
          },
          "metadata": {
            "tags": []
          },
          "execution_count": 40
        }
      ]
    },
    {
      "cell_type": "markdown",
      "metadata": {
        "id": "fSz0f-sf_AOw",
        "colab_type": "text"
      },
      "source": [
        "#Build Model"
      ]
    },
    {
      "cell_type": "markdown",
      "metadata": {
        "id": "m9Y-de7MqnKe",
        "colab_type": "text"
      },
      "source": [
        "##First Model\n",
        "  > This model using sequential model and sigmoid function as activation function."
      ]
    },
    {
      "cell_type": "code",
      "metadata": {
        "id": "qhesz5Vq_FZO",
        "colab_type": "code",
        "colab": {}
      },
      "source": [
        "# define function to create and train the model\n",
        "def create_model(learning_rate, feature_layer, my_metrics):\n",
        "\n",
        "  model = tf.keras.models.Sequential()\n",
        "\n",
        "  model.add(feature_layer)\n",
        "\n",
        "  model.add(tf.keras.layers.Dense(units=1, input_shape=(1,),\n",
        "                                  activation=tf.sigmoid),)\n",
        "\n",
        "  model.compile(optimizer=tf.keras.optimizers.RMSprop(lr=learning_rate),                                                   \n",
        "                loss=tf.keras.losses.BinaryCrossentropy(),\n",
        "                metrics=my_metrics)\n",
        "\n",
        "  return model        \n",
        "\n",
        "def train_model(model, dataset, epochs, label_name,\n",
        "                batch_size=None, shuffle=True):\n",
        "  features = {name:np.array(value) for name, value in dataset.items()}\n",
        "  label = np.array(features.pop(label_name)) \n",
        "  history = model.fit(x=features, y=label, batch_size=batch_size,\n",
        "                      epochs=epochs, shuffle=shuffle)\n",
        "  \n",
        "  epochs = history.epoch\n",
        "\n",
        "  hist = pd.DataFrame(history.history)\n",
        "\n",
        "  return epochs, hist  "
      ],
      "execution_count": 0,
      "outputs": []
    },
    {
      "cell_type": "code",
      "metadata": {
        "id": "I-pfYfif_aS0",
        "colab_type": "code",
        "colab": {}
      },
      "source": [
        "def plot_curve(epochs, hist):\n",
        "  \n",
        "  fig = plt.figure(figsize=(18,6))\n",
        "\n",
        "  plt.subplot2grid((2,3),(0,0))\n",
        "  plt.plot(epochs, hist.loss)\n",
        "  plt.title('Loss curve')\n",
        "  plt.xlabel(\"Epoch\")\n",
        "  plt.ylabel(\"Value\")\n",
        "\n",
        "  plt.subplot2grid((2,3),(0,1))\n",
        "  plt.plot(epochs, hist.accuracy)\n",
        "  plt.title('Accuracy curve')\n",
        "  plt.xlabel(\"Epoch\")\n",
        "  plt.ylabel(\"Value\")\n"
      ],
      "execution_count": 0,
      "outputs": []
    },
    {
      "cell_type": "code",
      "metadata": {
        "id": "cTAQdliQ_dl-",
        "colab_type": "code",
        "colab": {
          "base_uri": "https://localhost:8080/",
          "height": 1000
        },
        "outputId": "b3bbe142-caa5-46df-c7a1-deaed3519671"
      },
      "source": [
        "#setting hyperparameter value\n",
        "learning_rate = 0.05\n",
        "epochs = 30\n",
        "batch_size = 100\n",
        "label_name = \"fraudulent\"\n",
        "classification_threshold = 0.45\n",
        "\n",
        "METRICS = [\n",
        "           tf.keras.metrics.BinaryAccuracy(name='accuracy', \n",
        "                                           threshold=classification_threshold),\n",
        "          ]\n",
        "\n",
        "model1 = create_model(learning_rate, feature_layer, METRICS)\n",
        "\n",
        "epochs1, hist1 = train_model(model1, train, epochs, \n",
        "                           label_name, batch_size)\n",
        " "
      ],
      "execution_count": 95,
      "outputs": [
        {
          "output_type": "stream",
          "text": [
            "Epoch 1/30\n",
            "58/58 [==============================] - 0s 5ms/step - loss: 0.1302 - accuracy: 0.9491\n",
            "Epoch 2/30\n",
            "58/58 [==============================] - 0s 4ms/step - loss: 0.0709 - accuracy: 0.9777\n",
            "Epoch 3/30\n",
            "58/58 [==============================] - 0s 4ms/step - loss: 0.0519 - accuracy: 0.9822\n",
            "Epoch 4/30\n",
            "58/58 [==============================] - 0s 4ms/step - loss: 0.0409 - accuracy: 0.9864\n",
            "Epoch 5/30\n",
            "58/58 [==============================] - 0s 4ms/step - loss: 0.0331 - accuracy: 0.9895\n",
            "Epoch 6/30\n",
            "58/58 [==============================] - 0s 4ms/step - loss: 0.0274 - accuracy: 0.9912\n",
            "Epoch 7/30\n",
            "58/58 [==============================] - 0s 4ms/step - loss: 0.0230 - accuracy: 0.9929\n",
            "Epoch 8/30\n",
            "58/58 [==============================] - 0s 4ms/step - loss: 0.0192 - accuracy: 0.9943\n",
            "Epoch 9/30\n",
            "58/58 [==============================] - 0s 4ms/step - loss: 0.0160 - accuracy: 0.9953\n",
            "Epoch 10/30\n",
            "58/58 [==============================] - 0s 4ms/step - loss: 0.0138 - accuracy: 0.9960\n",
            "Epoch 11/30\n",
            "58/58 [==============================] - 0s 4ms/step - loss: 0.0122 - accuracy: 0.9965\n",
            "Epoch 12/30\n",
            "58/58 [==============================] - 0s 4ms/step - loss: 0.0102 - accuracy: 0.9969\n",
            "Epoch 13/30\n",
            "58/58 [==============================] - 0s 4ms/step - loss: 0.0092 - accuracy: 0.9972\n",
            "Epoch 14/30\n",
            "58/58 [==============================] - 0s 4ms/step - loss: 0.0079 - accuracy: 0.9981\n",
            "Epoch 15/30\n",
            "58/58 [==============================] - 0s 4ms/step - loss: 0.0072 - accuracy: 0.9981\n",
            "Epoch 16/30\n",
            "58/58 [==============================] - 0s 4ms/step - loss: 0.0064 - accuracy: 0.9981\n",
            "Epoch 17/30\n",
            "58/58 [==============================] - 0s 4ms/step - loss: 0.0056 - accuracy: 0.9983\n",
            "Epoch 18/30\n",
            "58/58 [==============================] - 0s 4ms/step - loss: 0.0051 - accuracy: 0.9986\n",
            "Epoch 19/30\n",
            "58/58 [==============================] - 0s 4ms/step - loss: 0.0043 - accuracy: 0.9990\n",
            "Epoch 20/30\n",
            "58/58 [==============================] - 0s 4ms/step - loss: 0.0039 - accuracy: 0.9988\n",
            "Epoch 21/30\n",
            "58/58 [==============================] - 0s 4ms/step - loss: 0.0035 - accuracy: 0.9988\n",
            "Epoch 22/30\n",
            "58/58 [==============================] - 0s 4ms/step - loss: 0.0031 - accuracy: 0.9990\n",
            "Epoch 23/30\n",
            "58/58 [==============================] - 0s 4ms/step - loss: 0.0027 - accuracy: 0.9993\n",
            "Epoch 24/30\n",
            "58/58 [==============================] - 0s 4ms/step - loss: 0.0025 - accuracy: 0.9995\n",
            "Epoch 25/30\n",
            "58/58 [==============================] - 0s 4ms/step - loss: 0.0021 - accuracy: 0.9997\n",
            "Epoch 26/30\n",
            "58/58 [==============================] - 0s 4ms/step - loss: 0.0018 - accuracy: 0.9998\n",
            "Epoch 27/30\n",
            "58/58 [==============================] - 0s 4ms/step - loss: 0.0014 - accuracy: 0.9998\n",
            "Epoch 28/30\n",
            "58/58 [==============================] - 0s 4ms/step - loss: 0.0018 - accuracy: 0.9998\n",
            "Epoch 29/30\n",
            "58/58 [==============================] - 0s 4ms/step - loss: 0.0015 - accuracy: 0.9998\n",
            "Epoch 30/30\n",
            "58/58 [==============================] - 0s 4ms/step - loss: 0.0014 - accuracy: 0.9997\n"
          ],
          "name": "stdout"
        }
      ]
    },
    {
      "cell_type": "code",
      "metadata": {
        "id": "ad2ylF_h2rbC",
        "colab_type": "code",
        "colab": {
          "base_uri": "https://localhost:8080/",
          "height": 226
        },
        "outputId": "d3be0c48-7f97-49d9-eb30-4a37822922c5"
      },
      "source": [
        "plot_curve(epochs1, hist1)"
      ],
      "execution_count": 96,
      "outputs": [
        {
          "output_type": "display_data",
          "data": {
            "image/png": "[encoded data removed]",
            "text/plain": [
              "<Figure size 1296x432 with 2 Axes>"
            ]
          },
          "metadata": {
            "tags": []
          }
        }
      ]
    },
    {
      "cell_type": "code",
      "metadata": {
        "id": "HMOTcb-HMqe7",
        "colab_type": "code",
        "colab": {
          "base_uri": "https://localhost:8080/",
          "height": 55
        },
        "outputId": "b3f25bef-b7ce-4d0e-ec39-9edfb9f63a4c"
      },
      "source": [
        "features = {name:np.array(value) for name, value in test.items()}\n",
        "label = np.array(features.pop(label_name))\n",
        "\n",
        "model1.evaluate(x = features, y = label, batch_size=batch_size)"
      ],
      "execution_count": 114,
      "outputs": [
        {
          "output_type": "stream",
          "text": [
            "19/19 [==============================] - 0s 4ms/step - loss: 0.1376 - accuracy: 0.9525\n"
          ],
          "name": "stdout"
        },
        {
          "output_type": "execute_result",
          "data": {
            "text/plain": [
              "[0.1375526636838913, 0.9525124430656433]"
            ]
          },
          "metadata": {
            "tags": []
          },
          "execution_count": 114
        }
      ]
    },
    {
      "cell_type": "markdown",
      "metadata": {
        "id": "XVpayocMq94U",
        "colab_type": "text"
      },
      "source": [
        "## Second Model"
      ]
    },
    {
      "cell_type": "code",
      "metadata": {
        "id": "blmb7XKlq_-i",
        "colab_type": "code",
        "colab": {}
      },
      "source": [
        "def create_model2(learning_rate, feature_layer, my_metrics):\n",
        "\n",
        "  model = tf.keras.models.Sequential()\n",
        "\n",
        "  model.add(feature_layer)\n",
        "\n",
        "  model.add(tf.keras.layers.Dense(units=1, input_shape=(1,),\n",
        "                                  activation=tf.keras.activations.relu),)\n",
        "\n",
        "  model.compile(optimizer=tf.keras.optimizers.RMSprop(lr=learning_rate),                                                   \n",
        "                loss=tf.keras.losses.BinaryCrossentropy(),\n",
        "                metrics=my_metrics)\n",
        "\n",
        "  return model"
      ],
      "execution_count": 0,
      "outputs": []
    },
    {
      "cell_type": "code",
      "metadata": {
        "id": "smc4xHBotjHz",
        "colab_type": "code",
        "colab": {
          "base_uri": "https://localhost:8080/",
          "height": 1000
        },
        "outputId": "9e305f3b-a810-4514-cdbc-cf78c169bf5d"
      },
      "source": [
        "#setting hyperparameter value\n",
        "learning_rate = 0.01\n",
        "epochs = 30\n",
        "batch_size = 100\n",
        "label_name = \"fraudulent\"\n",
        "classification_threshold = 0.4\n",
        "\n",
        "METRICS = [\n",
        "           tf.keras.metrics.BinaryAccuracy(name='accuracy', \n",
        "                                           threshold=classification_threshold),\n",
        "          ]\n",
        "\n",
        "model2 = create_model2(learning_rate, feature_layer, METRICS)\n",
        "\n",
        "epochs2, hist2 = train_model(model2, train, epochs, \n",
        "                           label_name, batch_size)"
      ],
      "execution_count": 112,
      "outputs": [
        {
          "output_type": "stream",
          "text": [
            "Epoch 1/30\n",
            "58/58 [==============================] - 0s 4ms/step - loss: 0.2489 - accuracy: 0.9641\n",
            "Epoch 2/30\n",
            "58/58 [==============================] - 0s 5ms/step - loss: 0.1812 - accuracy: 0.9758\n",
            "Epoch 3/30\n",
            "58/58 [==============================] - 0s 4ms/step - loss: 0.1533 - accuracy: 0.9808\n",
            "Epoch 4/30\n",
            "58/58 [==============================] - 0s 5ms/step - loss: 0.1309 - accuracy: 0.9852\n",
            "Epoch 5/30\n",
            "58/58 [==============================] - 0s 5ms/step - loss: 0.1249 - accuracy: 0.9876\n",
            "Epoch 6/30\n",
            "58/58 [==============================] - 0s 5ms/step - loss: 0.1162 - accuracy: 0.9888\n",
            "Epoch 7/30\n",
            "58/58 [==============================] - 0s 4ms/step - loss: 0.1125 - accuracy: 0.9903\n",
            "Epoch 8/30\n",
            "58/58 [==============================] - 0s 4ms/step - loss: 0.1062 - accuracy: 0.9912\n",
            "Epoch 9/30\n",
            "58/58 [==============================] - 0s 5ms/step - loss: 0.0990 - accuracy: 0.9914\n",
            "Epoch 10/30\n",
            "58/58 [==============================] - 0s 5ms/step - loss: 0.0972 - accuracy: 0.9924\n",
            "Epoch 11/30\n",
            "58/58 [==============================] - 0s 5ms/step - loss: 0.0966 - accuracy: 0.9926\n",
            "Epoch 12/30\n",
            "58/58 [==============================] - 0s 5ms/step - loss: 0.0954 - accuracy: 0.9931\n",
            "Epoch 13/30\n",
            "58/58 [==============================] - 0s 5ms/step - loss: 0.0950 - accuracy: 0.9926\n",
            "Epoch 14/30\n",
            "58/58 [==============================] - 0s 5ms/step - loss: 0.0944 - accuracy: 0.9933\n",
            "Epoch 15/30\n",
            "58/58 [==============================] - 0s 5ms/step - loss: 0.0939 - accuracy: 0.9936\n",
            "Epoch 16/30\n",
            "58/58 [==============================] - 0s 5ms/step - loss: 0.0932 - accuracy: 0.9936\n",
            "Epoch 17/30\n",
            "58/58 [==============================] - 0s 4ms/step - loss: 0.0902 - accuracy: 0.9938\n",
            "Epoch 18/30\n",
            "58/58 [==============================] - 0s 5ms/step - loss: 0.0925 - accuracy: 0.9936\n",
            "Epoch 19/30\n",
            "58/58 [==============================] - 0s 5ms/step - loss: 0.0901 - accuracy: 0.9938\n",
            "Epoch 20/30\n",
            "58/58 [==============================] - 0s 4ms/step - loss: 0.0896 - accuracy: 0.9938\n",
            "Epoch 21/30\n",
            "58/58 [==============================] - 0s 4ms/step - loss: 0.0897 - accuracy: 0.9938\n",
            "Epoch 22/30\n",
            "58/58 [==============================] - 0s 5ms/step - loss: 0.0893 - accuracy: 0.9938\n",
            "Epoch 23/30\n",
            "58/58 [==============================] - 0s 5ms/step - loss: 0.0894 - accuracy: 0.9938\n",
            "Epoch 24/30\n",
            "58/58 [==============================] - 0s 4ms/step - loss: 0.0890 - accuracy: 0.9940\n",
            "Epoch 25/30\n",
            "58/58 [==============================] - 0s 5ms/step - loss: 0.0892 - accuracy: 0.9940\n",
            "Epoch 26/30\n",
            "58/58 [==============================] - 0s 5ms/step - loss: 0.0888 - accuracy: 0.9943\n",
            "Epoch 27/30\n",
            "58/58 [==============================] - 0s 5ms/step - loss: 0.0889 - accuracy: 0.9941\n",
            "Epoch 28/30\n",
            "58/58 [==============================] - 0s 5ms/step - loss: 0.0887 - accuracy: 0.9940\n",
            "Epoch 29/30\n",
            "58/58 [==============================] - 0s 4ms/step - loss: 0.0885 - accuracy: 0.9941\n",
            "Epoch 30/30\n",
            "58/58 [==============================] - 0s 5ms/step - loss: 0.0884 - accuracy: 0.9941\n"
          ],
          "name": "stdout"
        }
      ]
    },
    {
      "cell_type": "code",
      "metadata": {
        "id": "Q7_0eftwtvIk",
        "colab_type": "code",
        "colab": {
          "base_uri": "https://localhost:8080/",
          "height": 226
        },
        "outputId": "4085aecc-6a9f-47a8-88d4-8d90537a4750"
      },
      "source": [
        " plot_curve(epochs2, hist2)"
      ],
      "execution_count": 113,
      "outputs": [
        {
          "output_type": "display_data",
          "data": {
            "image/png": "[encoded data removed]",
            "text/plain": [
              "<Figure size 1296x432 with 2 Axes>"
            ]
          },
          "metadata": {
            "tags": []
          }
        }
      ]
    },
    {
      "cell_type": "code",
      "metadata": {
        "id": "dJoCjDFl4Zrq",
        "colab_type": "code",
        "colab": {
          "base_uri": "https://localhost:8080/",
          "height": 55
        },
        "outputId": "a392453b-3a7c-4e26-c29b-3058c7b230d4"
      },
      "source": [
        "model2.evaluate(x = features, y = label, batch_size=batch_size)"
      ],
      "execution_count": 115,
      "outputs": [
        {
          "output_type": "stream",
          "text": [
            "19/19 [==============================] - 0s 4ms/step - loss: 0.1581 - accuracy: 0.9807\n"
          ],
          "name": "stdout"
        },
        {
          "output_type": "execute_result",
          "data": {
            "text/plain": [
              "[0.15807317197322845, 0.9806736707687378]"
            ]
          },
          "metadata": {
            "tags": []
          },
          "execution_count": 115
        }
      ]
    },
    {
      "cell_type": "markdown",
      "metadata": {
        "id": "42xF-7gpxpwA",
        "colab_type": "text"
      },
      "source": [
        "# Third Model"
      ]
    },
    {
      "cell_type": "code",
      "metadata": {
        "id": "PN7bfF8Xxr9c",
        "colab_type": "code",
        "colab": {}
      },
      "source": [
        "def create_model3(learning_rate, feature_layer):\n",
        "  model = tf.keras.models.Sequential()\n",
        "  model.add(feature_layer)   \n",
        "  model.add(tf.keras.layers.Dense(units=20, \n",
        "                                  activation='relu', \n",
        "                                  name='Hidden1'))\n",
        "  \n",
        "  model.add(tf.keras.layers.Dense(units=12, \n",
        "                                  activation='relu', \n",
        "                                  name='Hidden2'))\n",
        "  \n",
        "  model.add(tf.keras.layers.Dense(units=10, \n",
        "                                  activation='relu', \n",
        "                                  name='Hidden3'))\n",
        "  model.add(tf.keras.layers.Dense(units=6, \n",
        "                                  activation='relu', \n",
        "                                  name='Hidden4'))\n",
        "      \n",
        "  model.add(tf.keras.layers.Dense(units=1,  \n",
        "                                  name='Output'))                              \n",
        "  \n",
        "  model.compile(optimizer=tf.keras.optimizers.Adam(lr=learning_rate),\n",
        "                loss=\"mean_squared_error\",\n",
        "                metrics=['accuracy'])\n",
        "\n",
        "  return model"
      ],
      "execution_count": 0,
      "outputs": []
    },
    {
      "cell_type": "code",
      "metadata": {
        "id": "oQ10h0rdyjsU",
        "colab_type": "code",
        "colab": {
          "base_uri": "https://localhost:8080/",
          "height": 777
        },
        "outputId": "ecebcb49-fc9c-4bc9-ba36-8bd9dcd228c8"
      },
      "source": [
        "learning_rate = 0.01\n",
        "epochs = 20\n",
        "batch_size = 1000\n",
        "label_name = \"fraudulent\"\n",
        "\n",
        "model3 = create_model3(learning_rate, feature_layer)\n",
        "\n",
        "epochs3, accuracy = train_model(model3, train, epochs, \n",
        "                          label_name, batch_size)"
      ],
      "execution_count": 124,
      "outputs": [
        {
          "output_type": "stream",
          "text": [
            "Epoch 1/20\n",
            "6/6 [==============================] - 0s 50ms/step - loss: 0.0383 - accuracy: 0.9608\n",
            "Epoch 2/20\n",
            "6/6 [==============================] - 0s 48ms/step - loss: 0.0375 - accuracy: 0.9608\n",
            "Epoch 3/20\n",
            "6/6 [==============================] - 0s 48ms/step - loss: 0.0378 - accuracy: 0.9608\n",
            "Epoch 4/20\n",
            "6/6 [==============================] - 0s 48ms/step - loss: 0.0369 - accuracy: 0.9608\n",
            "Epoch 5/20\n",
            "6/6 [==============================] - 0s 48ms/step - loss: 0.0336 - accuracy: 0.9608\n",
            "Epoch 6/20\n",
            "6/6 [==============================] - 0s 48ms/step - loss: 0.0217 - accuracy: 0.9663\n",
            "Epoch 7/20\n",
            "6/6 [==============================] - 0s 50ms/step - loss: 0.0095 - accuracy: 0.9891\n",
            "Epoch 8/20\n",
            "6/6 [==============================] - 0s 47ms/step - loss: 0.0046 - accuracy: 0.9962\n",
            "Epoch 9/20\n",
            "6/6 [==============================] - 0s 48ms/step - loss: 0.0023 - accuracy: 0.9984\n",
            "Epoch 10/20\n",
            "6/6 [==============================] - 0s 49ms/step - loss: 0.0013 - accuracy: 0.9993\n",
            "Epoch 11/20\n",
            "6/6 [==============================] - 0s 47ms/step - loss: 7.7235e-04 - accuracy: 0.9998\n",
            "Epoch 12/20\n",
            "6/6 [==============================] - 0s 47ms/step - loss: 4.7241e-04 - accuracy: 0.9998\n",
            "Epoch 13/20\n",
            "6/6 [==============================] - 0s 52ms/step - loss: 3.3690e-04 - accuracy: 0.9998\n",
            "Epoch 14/20\n",
            "6/6 [==============================] - 0s 48ms/step - loss: 2.0528e-04 - accuracy: 0.9998\n",
            "Epoch 15/20\n",
            "6/6 [==============================] - 0s 49ms/step - loss: 1.4151e-04 - accuracy: 1.0000\n",
            "Epoch 16/20\n",
            "6/6 [==============================] - 0s 48ms/step - loss: 1.1289e-04 - accuracy: 1.0000\n",
            "Epoch 17/20\n",
            "6/6 [==============================] - 0s 49ms/step - loss: 9.1723e-05 - accuracy: 1.0000\n",
            "Epoch 18/20\n",
            "6/6 [==============================] - 0s 51ms/step - loss: 5.5803e-05 - accuracy: 1.0000\n",
            "Epoch 19/20\n",
            "6/6 [==============================] - 0s 49ms/step - loss: 5.3616e-05 - accuracy: 1.0000\n",
            "Epoch 20/20\n",
            "6/6 [==============================] - 0s 49ms/step - loss: 4.2090e-05 - accuracy: 1.0000\n"
          ],
          "name": "stdout"
        }
      ]
    },
    {
      "cell_type": "code",
      "metadata": {
        "id": "dtKxvN_LzMHc",
        "colab_type": "code",
        "colab": {
          "base_uri": "https://localhost:8080/",
          "height": 303
        },
        "outputId": "dca8e8ac-7ee3-44fe-cc10-3a4978777f6e"
      },
      "source": [
        "plt.plot(epochs3,mse)"
      ],
      "execution_count": 125,
      "outputs": [
        {
          "output_type": "execute_result",
          "data": {
            "text/plain": [
              "[<matplotlib.lines.Line2D at 0x7f7fd1a064e0>,\n",
              " <matplotlib.lines.Line2D at 0x7f7fd1a06c88>]"
            ]
          },
          "metadata": {
            "tags": []
          },
          "execution_count": 125
        },
        {
          "output_type": "display_data",
          "data": {
            "image/png": "[encoded data removed]",
            "text/plain": [
              "<Figure size 432x288 with 1 Axes>"
            ]
          },
          "metadata": {
            "tags": []
          }
        }
      ]
    },
    {
      "cell_type": "code",
      "metadata": {
        "id": "SiiLKahjzaHh",
        "colab_type": "code",
        "colab": {
          "base_uri": "https://localhost:8080/",
          "height": 55
        },
        "outputId": "7b9f6ccf-0869-4acc-9e20-ebe904a3ac89"
      },
      "source": [
        "test_features = {name:np.array(value) for name, value in test.items()}\n",
        "test_label = np.array(test_features.pop(label_name)) \n",
        "model3.evaluate(x = test_features, y = test_label, batch_size=batch_size)"
      ],
      "execution_count": 126,
      "outputs": [
        {
          "output_type": "stream",
          "text": [
            "2/2 [==============================] - 0s 15ms/step - loss: 0.0184 - accuracy: 0.9774\n"
          ],
          "name": "stdout"
        },
        {
          "output_type": "execute_result",
          "data": {
            "text/plain": [
              "[0.018389100208878517, 0.9773605465888977]"
            ]
          },
          "metadata": {
            "tags": []
          },
          "execution_count": 126
        }
      ]
    },
    {
      "cell_type": "markdown",
      "metadata": {
        "id": "58Q6Y6hA5Hr7",
        "colab_type": "text"
      },
      "source": [
        "# Validation"
      ]
    },
    {
      "cell_type": "code",
      "metadata": {
        "id": "EipR8DZc5Ji8",
        "colab_type": "code",
        "colab": {
          "base_uri": "https://localhost:8080/",
          "height": 150
        },
        "outputId": "81f3afa6-bf0e-4af8-b24e-4420ed09573d"
      },
      "source": [
        "features = {name:np.array(value) for name, value in validation.items()}\n",
        "label = np.array(features.pop(label_name))\n",
        "\n",
        "print('Evaluate Model 1 with Validation set : ')\n",
        "model1.evaluate(x = features, y = label, batch_size=batch_size)\n",
        "print('Evaluate Model 2 with Validation set : ')\n",
        "model2.evaluate(x = features, y = label, batch_size=batch_size)\n",
        "print('Evaluate Model 3 with Validation set : ')\n",
        "model3.evaluate(x = features, y = label, batch_size=batch_size)"
      ],
      "execution_count": 127,
      "outputs": [
        {
          "output_type": "stream",
          "text": [
            "Evaluate Model 1 with Validation set : \n",
            "2/2 [==============================] - 0s 7ms/step - loss: 0.1443 - accuracy: 0.9558\n",
            "Evaluate Model 2 with Validation set : \n",
            "2/2 [==============================] - 0s 8ms/step - loss: 0.1268 - accuracy: 0.9800\n",
            "Evaluate Model 3 with Validation set : \n",
            "2/2 [==============================] - 0s 10ms/step - loss: 0.0187 - accuracy: 0.9752\n"
          ],
          "name": "stdout"
        },
        {
          "output_type": "execute_result",
          "data": {
            "text/plain": [
              "[0.018659548833966255, 0.9751552939414978]"
            ]
          },
          "metadata": {
            "tags": []
          },
          "execution_count": 127
        }
      ]
    },
    {
      "cell_type": "markdown",
      "metadata": {
        "id": "FrsGABC-64Im",
        "colab_type": "text"
      },
      "source": [
        "Model 2 performing better than two others with 98% accuracy"
      ]
    }
  ]
}